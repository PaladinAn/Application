{
 "cells": [
  {
   "cell_type": "code",
   "execution_count": 5,
   "id": "4ec3cac3-27dc-4826-b76a-588a9e81f9a0",
   "metadata": {},
   "outputs": [
    {
     "name": "stdin",
     "output_type": "stream",
     "text": [
      "請輸入要查詢的季節: 春\n"
     ]
    },
    {
     "name": "stdout",
     "output_type": "stream",
     "text": [
      "春這個季節的感覺:暖\n"
     ]
    }
   ],
   "source": [
    "season = {'春':'暖', '夏':'熱', '秋':'涼爽', '冬':'冷'}\n",
    "\n",
    "season_what = input('請輸入要查詢的季節:')\n",
    "climate = season.get(season_what)\n",
    "if climate == None:\n",
    "    print('輸入錯誤')\n",
    "else:\n",
    "    print(season_what + '這個季節的感覺:' + season[season_what])"
   ]
  },
  {
   "cell_type": "code",
   "execution_count": null,
   "id": "46e5abcd-9196-4376-ae03-c3a36054a511",
   "metadata": {},
   "outputs": [],
   "source": []
  }
 ],
 "metadata": {
  "kernelspec": {
   "display_name": "Python 3 (ipykernel)",
   "language": "python",
   "name": "python3"
  },
  "language_info": {
   "codemirror_mode": {
    "name": "ipython",
    "version": 3
   },
   "file_extension": ".py",
   "mimetype": "text/x-python",
   "name": "python",
   "nbconvert_exporter": "python",
   "pygments_lexer": "ipython3",
   "version": "3.8.11"
  }
 },
 "nbformat": 4,
 "nbformat_minor": 5
}
