{
 "cells": [
  {
   "cell_type": "code",
   "execution_count": 5,
   "id": "1c3ea62b-6cd7-4656-b737-36a29f97bf94",
   "metadata": {},
   "outputs": [
    {
     "name": "stdin",
     "output_type": "stream",
     "text": [
      "輸入姓名: 60\n",
      "查無此學生，請輸入新同學的成績: 99\n"
     ]
    },
    {
     "name": "stdout",
     "output_type": "stream",
     "text": [
      "已建立的成績:{'小白': 99, '小黑': 66, '小黃': 75, '小綠': 64, '小蘭': 78, '60': '99'}\n"
     ]
    }
   ],
   "source": [
    "student = {'小白':99,'小黑':66, '小黃':75, '小綠':64, '小蘭':78}\n",
    "name = input('輸入姓名:')\n",
    "if name in student:\n",
    "    print(name + '的成績為:' + str(student[name]))\n",
    "else:\n",
    "    score = input('查無此學生，請輸入新同學的成績:')\n",
    "    student[name] = score\n",
    "    print('已建立的成績:' + str(student))"
   ]
  },
  {
   "cell_type": "code",
   "execution_count": null,
   "id": "4b4d6ad7-03d0-43ed-a975-12ced70ea08a",
   "metadata": {},
   "outputs": [],
   "source": []
  }
 ],
 "metadata": {
  "kernelspec": {
   "display_name": "Python 3 (ipykernel)",
   "language": "python",
   "name": "python3"
  },
  "language_info": {
   "codemirror_mode": {
    "name": "ipython",
    "version": 3
   },
   "file_extension": ".py",
   "mimetype": "text/x-python",
   "name": "python",
   "nbconvert_exporter": "python",
   "pygments_lexer": "ipython3",
   "version": "3.8.11"
  }
 },
 "nbformat": 4,
 "nbformat_minor": 5
}
