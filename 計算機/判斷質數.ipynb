{
 "cells": [
  {
   "cell_type": "code",
   "execution_count": 6,
   "id": "efc3bce5-4c36-4764-84b9-5d59c588adb4",
   "metadata": {},
   "outputs": [
    {
     "name": "stdin",
     "output_type": "stream",
     "text": [
      "請輸入正整數: 6\n"
     ]
    },
    {
     "name": "stdout",
     "output_type": "stream",
     "text": [
      "6不是質數\n"
     ]
    }
   ],
   "source": [
    "# 可以被 1和 本身整除\n",
    "n = int(input('請輸入正整數:'))\n",
    "\n",
    "for i in range(2, n):\n",
    "    if n % i == 0:\n",
    "        print(str(n)+ '不是質數')\n",
    "        break\n",
    "else:\n",
    "    print(str(n) + '是質數')"
   ]
  },
  {
   "cell_type": "code",
   "execution_count": null,
   "id": "0a093eeb-6d24-423f-86b4-ff6e81d07ec7",
   "metadata": {},
   "outputs": [],
   "source": []
  }
 ],
 "metadata": {
  "kernelspec": {
   "display_name": "Python 3 (ipykernel)",
   "language": "python",
   "name": "python3"
  },
  "language_info": {
   "codemirror_mode": {
    "name": "ipython",
    "version": 3
   },
   "file_extension": ".py",
   "mimetype": "text/x-python",
   "name": "python",
   "nbconvert_exporter": "python",
   "pygments_lexer": "ipython3",
   "version": "3.8.11"
  }
 },
 "nbformat": 4,
 "nbformat_minor": 5
}
