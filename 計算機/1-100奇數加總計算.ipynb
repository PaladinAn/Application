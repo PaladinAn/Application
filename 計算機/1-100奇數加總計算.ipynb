{
 "cells": [
  {
   "cell_type": "code",
   "execution_count": 4,
   "id": "5357a5c8-90d3-4d29-a606-e1a1f05a8d58",
   "metadata": {},
   "outputs": [
    {
     "name": "stdout",
     "output_type": "stream",
     "text": [
      "1-100總和為: 5050\n",
      "1-100奇數總和為: 2500\n"
     ]
    }
   ],
   "source": [
    "sum1 = 0\n",
    "for i in range(1, 101):\n",
    "    sum1 += i\n",
    "print('1-100總和為:', sum1)\n",
    "\n",
    "sum2 = 0\n",
    "for i in range(1, 101, 2):\n",
    "    sum2 += i\n",
    "print('1-100奇數總和為:', sum2)"
   ]
  },
  {
   "cell_type": "code",
   "execution_count": 14,
   "id": "7d280513-d70a-417e-9c66-16a54100f228",
   "metadata": {},
   "outputs": [
    {
     "name": "stdout",
     "output_type": "stream",
     "text": [
      "1-100總和為: 5050\n",
      "1-100奇數總和為: 2500\n"
     ]
    }
   ],
   "source": [
    "sum1 = 0\n",
    "i = 1\n",
    "while i < 101:\n",
    "    sum1 += i\n",
    "    i += 1\n",
    "print('1-100總和為:', sum1)\n",
    "\n",
    "sum2 = 0\n",
    "i = 1\n",
    "while i < 101:\n",
    "    sum2 += i\n",
    "    i += 2\n",
    "print('1-100奇數總和為:', sum2)"
   ]
  },
  {
   "cell_type": "code",
   "execution_count": null,
   "id": "cf19805f-96ca-49f3-8246-ef32c639434f",
   "metadata": {},
   "outputs": [],
   "source": []
  }
 ],
 "metadata": {
  "kernelspec": {
   "display_name": "Python 3 (ipykernel)",
   "language": "python",
   "name": "python3"
  },
  "language_info": {
   "codemirror_mode": {
    "name": "ipython",
    "version": 3
   },
   "file_extension": ".py",
   "mimetype": "text/x-python",
   "name": "python",
   "nbconvert_exporter": "python",
   "pygments_lexer": "ipython3",
   "version": "3.8.11"
  }
 },
 "nbformat": 4,
 "nbformat_minor": 5
}
