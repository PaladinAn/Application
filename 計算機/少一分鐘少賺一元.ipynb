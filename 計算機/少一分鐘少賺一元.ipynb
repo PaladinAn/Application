{
 "cells": [
  {
   "cell_type": "code",
   "execution_count": 6,
   "id": "e9eb0e93-2797-4b48-b19f-9041f52dd228",
   "metadata": {},
   "outputs": [
    {
     "name": "stdin",
     "output_type": "stream",
     "text": [
      "工作時間: 50\n"
     ]
    },
    {
     "name": "stdout",
     "output_type": "stream",
     "text": [
      "Get 0 元\n"
     ]
    }
   ],
   "source": [
    "workTime = int(input('工作時間:'))\n",
    "\n",
    "if workTime < 30:\n",
    "    bouns = 30 - workTime\n",
    "else:\n",
    "    bouns = 0\n",
    "print('Get', bouns, '元')"
   ]
  },
  {
   "cell_type": "code",
   "execution_count": 5,
   "id": "461bec58-6d55-47e8-8161-f256cbb7da50",
   "metadata": {},
   "outputs": [
    {
     "name": "stdin",
     "output_type": "stream",
     "text": [
      "工作時間: 50\n"
     ]
    },
    {
     "name": "stdout",
     "output_type": "stream",
     "text": [
      "Get 0 元\n"
     ]
    }
   ],
   "source": [
    "workTime = int(input('工作時間:'))\n",
    "print('Get', max(30-workTime, 0), '元')"
   ]
  },
  {
   "cell_type": "code",
   "execution_count": null,
   "id": "afd50f03-3f8a-404b-bfac-4950b968051c",
   "metadata": {},
   "outputs": [],
   "source": []
  }
 ],
 "metadata": {
  "kernelspec": {
   "display_name": "Python 3 (ipykernel)",
   "language": "python",
   "name": "python3"
  },
  "language_info": {
   "codemirror_mode": {
    "name": "ipython",
    "version": 3
   },
   "file_extension": ".py",
   "mimetype": "text/x-python",
   "name": "python",
   "nbconvert_exporter": "python",
   "pygments_lexer": "ipython3",
   "version": "3.8.11"
  }
 },
 "nbformat": 4,
 "nbformat_minor": 5
}
