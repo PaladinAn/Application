{
 "cells": [
  {
   "cell_type": "code",
   "execution_count": null,
   "id": "148e4b9d-d37e-4263-8769-e32524898f9d",
   "metadata": {},
   "outputs": [],
   "source": [
    "# 2000000以上，30%\n",
    "# 1000000-1999999，21%\n",
    "# 600000-999999，13%\n",
    "# 300000-599999，6%\n",
    "# 299999以下，免稅"
   ]
  },
  {
   "cell_type": "code",
   "execution_count": 4,
   "id": "0c516b98-002f-41c9-98bf-94ef8c778182",
   "metadata": {},
   "outputs": [
    {
     "name": "stdin",
     "output_type": "stream",
     "text": [
      "請輸入收入: 100\n"
     ]
    },
    {
     "name": "stdout",
     "output_type": "stream",
     "text": [
      "所得稅為 0 元\n"
     ]
    }
   ],
   "source": [
    "income = int(input('請輸入收入:'))\n",
    "if income >= 300000:\n",
    "    if income >= 200000:\n",
    "        tax = income*.3\n",
    "    elif income >= 100000:\n",
    "        tax = income*.21\n",
    "    elif income >= 600000:\n",
    "        tax = income*.13\n",
    "    elif income >= 300000:\n",
    "        tax = income*.06\n",
    "else:\n",
    "    tax = income*0\n",
    "print('所得稅為', str(tax), '元')"
   ]
  },
  {
   "cell_type": "code",
   "execution_count": null,
   "id": "ed1270c4-8d9b-4858-9e30-3ad77554cc71",
   "metadata": {},
   "outputs": [],
   "source": []
  }
 ],
 "metadata": {
  "kernelspec": {
   "display_name": "Python 3 (ipykernel)",
   "language": "python",
   "name": "python3"
  },
  "language_info": {
   "codemirror_mode": {
    "name": "ipython",
    "version": 3
   },
   "file_extension": ".py",
   "mimetype": "text/x-python",
   "name": "python",
   "nbconvert_exporter": "python",
   "pygments_lexer": "ipython3",
   "version": "3.8.11"
  }
 },
 "nbformat": 4,
 "nbformat_minor": 5
}
