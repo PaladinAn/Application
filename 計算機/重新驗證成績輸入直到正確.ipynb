{
 "cells": [
  {
   "cell_type": "code",
   "execution_count": 2,
   "id": "aee190c8-ce08-418e-9b2f-6fb11535abf5",
   "metadata": {},
   "outputs": [
    {
     "name": "stdin",
     "output_type": "stream",
     "text": [
      "請輸入學生成績: 500\n",
      "輸入錯誤，請重新輸入: 999\n",
      "輸入錯誤，請重新輸入: 20\n"
     ]
    },
    {
     "name": "stdout",
     "output_type": "stream",
     "text": [
      "輸入正確!\n"
     ]
    }
   ],
   "source": [
    "score = int(input('請輸入學生成績:'))\n",
    "\n",
    "while score < 0 or score > 100:\n",
    "    score = int(input('輸入錯誤，請重新輸入:'))\n",
    "else:\n",
    "    print('輸入正確!')"
   ]
  },
  {
   "cell_type": "code",
   "execution_count": null,
   "id": "5804766a-5310-45aa-8d21-6b84068966c4",
   "metadata": {},
   "outputs": [],
   "source": []
  }
 ],
 "metadata": {
  "kernelspec": {
   "display_name": "Python 3 (ipykernel)",
   "language": "python",
   "name": "python3"
  },
  "language_info": {
   "codemirror_mode": {
    "name": "ipython",
    "version": 3
   },
   "file_extension": ".py",
   "mimetype": "text/x-python",
   "name": "python",
   "nbconvert_exporter": "python",
   "pygments_lexer": "ipython3",
   "version": "3.8.11"
  }
 },
 "nbformat": 4,
 "nbformat_minor": 5
}
