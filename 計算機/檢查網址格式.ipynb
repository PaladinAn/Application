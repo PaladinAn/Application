{
 "cells": [
  {
   "cell_type": "code",
   "execution_count": null,
   "id": "04dd065d-6b30-443e-ae61-bb6ec931b82a",
   "metadata": {},
   "outputs": [],
   "source": [
    "#判斷起始: 字串.startswith\n",
    "#判斷結束: 字串.endswith\n",
    "\n",
    "#判斷是不是網址\n",
    "WebHere = input('請輸入網址:')\n",
    "if webHerr.staetswith('https://') or webHerr.staetswith('http://')\n",
    "    print('這是網址')\n",
    "else:\n",
    "    print('這不是網址')"
   ]
  }
 ],
 "metadata": {
  "kernelspec": {
   "display_name": "Python 3 (ipykernel)",
   "language": "python",
   "name": "python3"
  },
  "language_info": {
   "codemirror_mode": {
    "name": "ipython",
    "version": 3
   },
   "file_extension": ".py",
   "mimetype": "text/x-python",
   "name": "python",
   "nbconvert_exporter": "python",
   "pygments_lexer": "ipython3",
   "version": "3.8.11"
  }
 },
 "nbformat": 4,
 "nbformat_minor": 5
}
