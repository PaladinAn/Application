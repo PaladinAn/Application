{
 "cells": [
  {
   "cell_type": "code",
   "execution_count": 10,
   "id": "e90bb245-6b86-488c-947c-541c01a73ce3",
   "metadata": {},
   "outputs": [
    {
     "name": "stdin",
     "output_type": "stream",
     "text": [
      "請輸入要查詢的縣市 999\n"
     ]
    },
    {
     "name": "stdout",
     "output_type": "stream",
     "text": [
      "查無此城市:999\n"
     ]
    }
   ],
   "source": [
    "city = {'台北市':13, '新北市':24, '桃園市':53, '台中市':39, '台南市':30, '高雄市':44}\n",
    "\n",
    "city_name = input('請輸入要查詢的縣市')\n",
    "PM25_get = city.get(city_name)\n",
    "if PM25_get == None:\n",
    "    print('查無此城市:'+ city_name)\n",
    "else:\n",
    "    print(city_name + 'PM2.5的數值為:' + str(city[city_name]))"
   ]
  },
  {
   "cell_type": "code",
   "execution_count": null,
   "id": "d6988004-55d5-4029-a1da-aa9a631e472e",
   "metadata": {},
   "outputs": [],
   "source": []
  }
 ],
 "metadata": {
  "kernelspec": {
   "display_name": "Python 3 (ipykernel)",
   "language": "python",
   "name": "python3"
  },
  "language_info": {
   "codemirror_mode": {
    "name": "ipython",
    "version": 3
   },
   "file_extension": ".py",
   "mimetype": "text/x-python",
   "name": "python",
   "nbconvert_exporter": "python",
   "pygments_lexer": "ipython3",
   "version": "3.8.11"
  }
 },
 "nbformat": 4,
 "nbformat_minor": 5
}
