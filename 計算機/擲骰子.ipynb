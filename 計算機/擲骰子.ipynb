{
 "cells": [
  {
   "cell_type": "code",
   "execution_count": 2,
   "id": "2d6c6b3c-8195-4a4e-bcc4-cf2dfdcfddf1",
   "metadata": {},
   "outputs": [
    {
     "name": "stdout",
     "output_type": "stream",
     "text": [
      "結果: 3\n",
      "結果: 4\n",
      "結果: 3\n",
      "3次結果: 10\n"
     ]
    }
   ],
   "source": [
    "# 連續擲3骰子，以總點數定輸贏\n",
    "# 首先設定一個變數來儲存點數的部分\n",
    "\n",
    "import random\n",
    "total =0\n",
    "\n",
    "for i in range(3):\n",
    "    point = random.randint(1, 6)\n",
    "    print('結果:', point)\n",
    "    total += point\n",
    "print('3次結果:', total)"
   ]
  },
  {
   "cell_type": "code",
   "execution_count": null,
   "id": "f81b5907-314e-4fe4-9533-cfb13fa2cea1",
   "metadata": {},
   "outputs": [],
   "source": []
  }
 ],
 "metadata": {
  "kernelspec": {
   "display_name": "Python 3 (ipykernel)",
   "language": "python",
   "name": "python3"
  },
  "language_info": {
   "codemirror_mode": {
    "name": "ipython",
    "version": 3
   },
   "file_extension": ".py",
   "mimetype": "text/x-python",
   "name": "python",
   "nbconvert_exporter": "python",
   "pygments_lexer": "ipython3",
   "version": "3.8.11"
  }
 },
 "nbformat": 4,
 "nbformat_minor": 5
}
