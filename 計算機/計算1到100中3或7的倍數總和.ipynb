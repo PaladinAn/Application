{
 "cells": [
  {
   "cell_type": "code",
   "execution_count": 3,
   "id": "1103f055-b593-40f8-a060-847101cc5a1d",
   "metadata": {},
   "outputs": [
    {
     "name": "stdout",
     "output_type": "stream",
     "text": [
      "計算1到100中3或7的倍數總和為:2208\n"
     ]
    }
   ],
   "source": [
    "sum = 0\n",
    "for i in range(1, 101):\n",
    "    if i%3 == 0 or i%7 ==0:\n",
    "        sum += i\n",
    "print('計算1到100中3或7的倍數總和為:'+ str(sum))"
   ]
  },
  {
   "cell_type": "code",
   "execution_count": null,
   "id": "3290568a-94ae-4f78-9d37-a3880176aba0",
   "metadata": {},
   "outputs": [],
   "source": []
  }
 ],
 "metadata": {
  "kernelspec": {
   "display_name": "Python 3 (ipykernel)",
   "language": "python",
   "name": "python3"
  },
  "language_info": {
   "codemirror_mode": {
    "name": "ipython",
    "version": 3
   },
   "file_extension": ".py",
   "mimetype": "text/x-python",
   "name": "python",
   "nbconvert_exporter": "python",
   "pygments_lexer": "ipython3",
   "version": "3.8.11"
  }
 },
 "nbformat": 4,
 "nbformat_minor": 5
}
