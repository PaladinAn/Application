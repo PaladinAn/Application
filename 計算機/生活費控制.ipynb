{
 "cells": [
  {
   "cell_type": "code",
   "execution_count": 1,
   "id": "6cb18f70-7adf-4163-b8d8-1f620d5adacd",
   "metadata": {},
   "outputs": [
    {
     "name": "stdin",
     "output_type": "stream",
     "text": [
      "我的生活費: 50050\n",
      "分成幾天: 30\n"
     ]
    },
    {
     "name": "stdout",
     "output_type": "stream",
     "text": [
      "一天可以用: 1668 元\n",
      "另外可以存下: 10 元\n"
     ]
    }
   ],
   "source": [
    "CostOfLife = int(input('我的生活費:'))\n",
    "Days = int(input('分成幾天:'))\n",
    "\n",
    "result = divmod(CostOfLife, Days)\n",
    "print('一天可以用:', result[0], '元')\n",
    "print('另外可以存下:', result[1], '元')"
   ]
  },
  {
   "cell_type": "code",
   "execution_count": null,
   "id": "5de1ec9c-5adb-4a29-9252-07e95f309eb7",
   "metadata": {},
   "outputs": [],
   "source": []
  }
 ],
 "metadata": {
  "kernelspec": {
   "display_name": "Python 3 (ipykernel)",
   "language": "python",
   "name": "python3"
  },
  "language_info": {
   "codemirror_mode": {
    "name": "ipython",
    "version": 3
   },
   "file_extension": ".py",
   "mimetype": "text/x-python",
   "name": "python",
   "nbconvert_exporter": "python",
   "pygments_lexer": "ipython3",
   "version": "3.8.11"
  }
 },
 "nbformat": 4,
 "nbformat_minor": 5
}
