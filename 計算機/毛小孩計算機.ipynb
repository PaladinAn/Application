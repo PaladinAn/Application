{
 "cells": [
  {
   "cell_type": "code",
   "execution_count": 1,
   "id": "1123342f",
   "metadata": {},
   "outputs": [],
   "source": [
    "import math"
   ]
  },
  {
   "cell_type": "code",
   "execution_count": null,
   "id": "3c51c454",
   "metadata": {},
   "outputs": [],
   "source": [
    "pet = input('請問，你家的寵物是「貓咪」還是「狗狗」?')\n",
    "if(pet == '狗狗'):\n",
    "    dog_age = input('狗狗幾歲了?')\n",
    "    human_age = int (math.log(int(dog_age)) + 31)\n",
    "    print('你家的狗狗是人類', human_age, '歲')\n",
    "elif(pet == '貓咪'):\n",
    "    cat_age = int(input('貓咪幾歲了?'))\n",
    "    if(cat_age == 1):\n",
    "        human_age == 15\n",
    "    elif(cat_age == 2):\n",
    "        human_age == 24\n",
    "    else:\n",
    "        human_age = 24 + (cat_age - 2) * 4\n",
    "    print('你家的貓咪是人類', human_age, '歲')\n",
    "else:\n",
    "    print('只能輸入「貓咪」或「狗狗」')"
   ]
  },
  {
   "cell_type": "code",
   "execution_count": null,
   "id": "533e5274",
   "metadata": {},
   "outputs": [],
   "source": []
  }
 ],
 "metadata": {
  "kernelspec": {
   "display_name": "Python 3",
   "language": "python",
   "name": "python3"
  },
  "language_info": {
   "codemirror_mode": {
    "name": "ipython",
    "version": 3
   },
   "file_extension": ".py",
   "mimetype": "text/x-python",
   "name": "python",
   "nbconvert_exporter": "python",
   "pygments_lexer": "ipython3",
   "version": "3.8.8"
  }
 },
 "nbformat": 4,
 "nbformat_minor": 5
}
