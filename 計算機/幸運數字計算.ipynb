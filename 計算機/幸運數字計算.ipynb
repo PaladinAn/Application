{
 "cells": [
  {
   "cell_type": "code",
   "execution_count": 40,
   "id": "1d64fe7f-f2d1-4ec8-9cad-7d08b1a872f7",
   "metadata": {},
   "outputs": [
    {
     "name": "stdin",
     "output_type": "stream",
     "text": [
      "請輸入要查詢的數字 1\n"
     ]
    },
    {
     "name": "stdout",
     "output_type": "stream",
     "text": [
      "吉\n"
     ]
    }
   ],
   "source": [
    "number_how = {1:'吉', 2:'凶', 3:'吉', 4:'凶', 5:'吉', 6:'吉', 7:'吉', 8:'吉', 9:'凶', 10:'凶', 11:'吉', 12:'凶', 13:'吉', 14:'凶', 15:'吉', 16:'吉', 17:'吉', 18:'吉', 19:'凶', 20:'凶', 21:'吉', 22:'凶', 23:'吉', 24:'吉', 25:'吉', 26:'凶帶吉', 27:'吉帶凶', 28:'凶', 29:'吉', 30:'吉帶凶', 31:'吉', 32:'吉', 33:'吉', 34:'凶', 35:'吉', 36:'凶', 37:'吉', 38:'凶帶吉', 39:'吉', 40:'吉帶凶', 41:'吉', 42:'吉帶凶', 43:'吉帶凶', 44:'凶', 45:'吉', 46:'凶', 47:'吉', 48:'吉', 49:'凶', 50:'吉帶凶', 51:'吉帶凶', 52:'吉', 53:'吉帶凶', 54:'凶', 55:'吉帶凶', 56:'凶', 57:'凶帶吉', 58:'凶帶吉', 59:'凶', 60:'凶', 61:'吉帶凶', 62:'凶', 63:'吉', 64:'凶', 65:'吉', 66:'凶', 67:'吉', 68:'吉', 69:'凶', 70:'凶', 71:'吉帶凶', 72:'凶', 73:'吉', 74:'凶', 75:'吉帶凶', 76:'凶', 77:'吉帶凶', 78:'吉帶凶', 79:'凶', 80:'吉帶凶', 0:'吉'}\n",
    "\n",
    "number = int(input('請輸入要查詢的數字'))\n",
    "number_do = int(number % 81)\n",
    "print(number_how[number_do])\n"
   ]
  },
  {
   "cell_type": "code",
   "execution_count": null,
   "id": "bf804533-83f5-4795-870b-4e8145a4f470",
   "metadata": {},
   "outputs": [],
   "source": []
  }
 ],
 "metadata": {
  "kernelspec": {
   "display_name": "Python 3 (ipykernel)",
   "language": "python",
   "name": "python3"
  },
  "language_info": {
   "codemirror_mode": {
    "name": "ipython",
    "version": 3
   },
   "file_extension": ".py",
   "mimetype": "text/x-python",
   "name": "python",
   "nbconvert_exporter": "python",
   "pygments_lexer": "ipython3",
   "version": "3.8.11"
  }
 },
 "nbformat": 4,
 "nbformat_minor": 5
}
