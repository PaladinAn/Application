{
 "cells": [
  {
   "cell_type": "code",
   "execution_count": 1,
   "id": "dc216c8f-3671-4466-91ed-af6766f1a024",
   "metadata": {},
   "outputs": [
    {
     "name": "stdout",
     "output_type": "stream",
     "text": [
      "共使用: 0.2619965076446533 秒\n"
     ]
    }
   ],
   "source": [
    "# 取得當前時間，再取得結束時間\n",
    "import time\n",
    "\n",
    "time_start = time.time()\n",
    "\n",
    "time_st = 0\n",
    "for i in range(1, 1001):\n",
    "    for j in range(1, 1001):\n",
    "        time_st += 1\n",
    "        \n",
    "time_end = time.time()\n",
    "\n",
    "total_time = time_end - time_start\n",
    "print('共使用:',total_time , '秒')"
   ]
  },
  {
   "cell_type": "code",
   "execution_count": 6,
   "id": "1af162a7-9560-4b18-aaf2-34b45e089f53",
   "metadata": {},
   "outputs": [
    {
     "name": "stdout",
     "output_type": "stream",
     "text": [
      "共使用: 0.214999 秒\n"
     ]
    }
   ],
   "source": [
    "# 取得當前時間，再取得結束時間\n",
    "import time\n",
    "\n",
    "time_start = time.time()\n",
    "\n",
    "time_st = 0\n",
    "for i in range(1, 1001):\n",
    "    for j in range(1, 1001):\n",
    "        time_st += 1\n",
    "        \n",
    "time_end = time.time()\n",
    "\n",
    "total_time = time_end - time_start\n",
    "print('共使用: %.6f 秒' % total_time)"
   ]
  },
  {
   "cell_type": "code",
   "execution_count": 13,
   "id": "b576d314-c161-45ab-9576-7124eaeabcb3",
   "metadata": {},
   "outputs": [
    {
     "name": "stdout",
     "output_type": "stream",
     "text": [
      "共使用: 0.257001 秒\n"
     ]
    }
   ],
   "source": [
    "# 取得當前時間，再取得結束時間\n",
    "import time\n",
    "\n",
    "time_start = time.time()\n",
    "\n",
    "time_st = 0\n",
    "for i in range(1, 1001):\n",
    "    for j in range(1, 1001):\n",
    "        time_st += 1\n",
    "        \n",
    "time_end = time.time()\n",
    "\n",
    "total_time = time_end - time_start\n",
    "\n",
    "print('共使用:', '{:6f}'.format(total_time), '秒')"
   ]
  },
  {
   "cell_type": "code",
   "execution_count": 12,
   "id": "5db77606-3032-4d5d-859d-52f252d23f30",
   "metadata": {},
   "outputs": [
    {
     "name": "stdout",
     "output_type": "stream",
     "text": [
      "共使用:0.277002 秒\n"
     ]
    }
   ],
   "source": [
    "# 取得當前時間，再取得結束時間\n",
    "import time\n",
    "\n",
    "time_start = time.time()\n",
    "\n",
    "time_st = 0\n",
    "for i in range(1, 1001):\n",
    "    for j in range(1, 1001):\n",
    "        time_st += 1\n",
    "        \n",
    "time_end = time.time()\n",
    "\n",
    "total_time = time_end - time_start\n",
    "\n",
    "print('共使用:{:6f}'.format(total_time), '秒')"
   ]
  },
  {
   "cell_type": "code",
   "execution_count": null,
   "id": "3a7f3da8-df01-4e78-b000-f2fa0a762abf",
   "metadata": {},
   "outputs": [],
   "source": []
  }
 ],
 "metadata": {
  "kernelspec": {
   "display_name": "Python 3 (ipykernel)",
   "language": "python",
   "name": "python3"
  },
  "language_info": {
   "codemirror_mode": {
    "name": "ipython",
    "version": 3
   },
   "file_extension": ".py",
   "mimetype": "text/x-python",
   "name": "python",
   "nbconvert_exporter": "python",
   "pygments_lexer": "ipython3",
   "version": "3.8.11"
  }
 },
 "nbformat": 4,
 "nbformat_minor": 5
}
