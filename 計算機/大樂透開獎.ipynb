{
 "cells": [
  {
   "cell_type": "code",
   "execution_count": 20,
   "id": "19759b3e-276f-4839-964c-de4782d131b2",
   "metadata": {},
   "outputs": [
    {
     "name": "stdout",
     "output_type": "stream",
     "text": [
      "中獎號碼為:3,22,28,39,48,49\n",
      "特別號為: 7\n"
     ]
    }
   ],
   "source": [
    "# 大樂透 1~49數字，中獎6個號碼，再加上1個特別號\n",
    "# pop方法取出不放回、sort由小排到大\n",
    "\n",
    "import random\n",
    "\n",
    "lotter = random.sample(range(1, 50), 7)\n",
    "lotter_s = lotter.pop()\n",
    "lotter.sort()\n",
    "\n",
    "print('中獎號碼為:', end='')\n",
    "for i in range(6):\n",
    "    if i == 5:\n",
    "        print(lotter[i])\n",
    "    else:\n",
    "        print(lotter[i], end=',')\n",
    "print('特別號為:', str(lotter_s))"
   ]
  },
  {
   "cell_type": "code",
   "execution_count": null,
   "id": "afdf3af5-0046-4b20-bb2c-8cdc377a9b1c",
   "metadata": {},
   "outputs": [],
   "source": []
  }
 ],
 "metadata": {
  "kernelspec": {
   "display_name": "Python 3 (ipykernel)",
   "language": "python",
   "name": "python3"
  },
  "language_info": {
   "codemirror_mode": {
    "name": "ipython",
    "version": 3
   },
   "file_extension": ".py",
   "mimetype": "text/x-python",
   "name": "python",
   "nbconvert_exporter": "python",
   "pygments_lexer": "ipython3",
   "version": "3.8.11"
  }
 },
 "nbformat": 4,
 "nbformat_minor": 5
}
