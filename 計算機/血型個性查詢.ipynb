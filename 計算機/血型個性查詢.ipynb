{
 "cells": [
  {
   "cell_type": "code",
   "execution_count": 18,
   "id": "34a36ffb-4195-43ae-af1f-610619db585b",
   "metadata": {},
   "outputs": [
    {
     "name": "stdin",
     "output_type": "stream",
     "text": [
      "請輸入血型: A\n"
     ]
    },
    {
     "name": "stdout",
     "output_type": "stream",
     "text": [
      "A的血型個性為:謹慎\n"
     ]
    }
   ],
   "source": [
    "# 建立 字典\n",
    "blood_type = {'A':'謹慎', 'B':'自由', 'O':'交際', 'AB':'理性'}\n",
    "\n",
    "who_blood = input('請輸入血型:')\n",
    "personality = blood_type.get(who_blood)\n",
    "\n",
    "if personality == None:\n",
    "    print('不存在' + name + '這種血型')\n",
    "else:\n",
    "    print(who_blood + '的血型個性為:' + str(blood_type[who_blood]))"
   ]
  },
  {
   "cell_type": "code",
   "execution_count": null,
   "id": "d0f80b85-b806-4dae-ad95-10e3f5d443a1",
   "metadata": {},
   "outputs": [],
   "source": []
  }
 ],
 "metadata": {
  "kernelspec": {
   "display_name": "Python 3 (ipykernel)",
   "language": "python",
   "name": "python3"
  },
  "language_info": {
   "codemirror_mode": {
    "name": "ipython",
    "version": 3
   },
   "file_extension": ".py",
   "mimetype": "text/x-python",
   "name": "python",
   "nbconvert_exporter": "python",
   "pygments_lexer": "ipython3",
   "version": "3.8.11"
  }
 },
 "nbformat": 4,
 "nbformat_minor": 5
}
