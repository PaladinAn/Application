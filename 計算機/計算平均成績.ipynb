{
 "cells": [
  {
   "cell_type": "code",
   "execution_count": 9,
   "id": "0b8669a9-3a4f-4434-86d9-960ceaa3dbee",
   "metadata": {},
   "outputs": [
    {
     "name": "stdout",
     "output_type": "stream",
     "text": [
      "平均成績為: 77.4 分\n"
     ]
    }
   ],
   "source": [
    "scores = [84, 69, 75, 99, 60]\n",
    "print('平均成績為:', (sum(scores)/len(scores)), '分')"
   ]
  },
  {
   "cell_type": "code",
   "execution_count": null,
   "id": "59832c8f-f732-42a3-81cf-a52a834c6ae3",
   "metadata": {},
   "outputs": [],
   "source": []
  }
 ],
 "metadata": {
  "kernelspec": {
   "display_name": "Python 3 (ipykernel)",
   "language": "python",
   "name": "python3"
  },
  "language_info": {
   "codemirror_mode": {
    "name": "ipython",
    "version": 3
   },
   "file_extension": ".py",
   "mimetype": "text/x-python",
   "name": "python",
   "nbconvert_exporter": "python",
   "pygments_lexer": "ipython3",
   "version": "3.8.11"
  }
 },
 "nbformat": 4,
 "nbformat_minor": 5
}
