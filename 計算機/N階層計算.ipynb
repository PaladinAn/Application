{
 "cells": [
  {
   "cell_type": "code",
   "execution_count": 1,
   "id": "1b961525-3f40-4d56-a912-57a7c1c3b784",
   "metadata": {},
   "outputs": [
    {
     "name": "stdin",
     "output_type": "stream",
     "text": [
      "請輸入正整數n的值: 5\n"
     ]
    },
    {
     "name": "stdout",
     "output_type": "stream",
     "text": [
      "5! = 120\n"
     ]
    }
   ],
   "source": [
    "n = int(input('請輸入正整數n的值:'))\n",
    "total = i = 1\n",
    "\n",
    "while i <= n:\n",
    "    total *= i\n",
    "    i += 1\n",
    "print('{}! = {}'.format(n, total))"
   ]
  },
  {
   "cell_type": "code",
   "execution_count": null,
   "id": "f1b89914-6207-4d91-9ac4-12573d9bd059",
   "metadata": {},
   "outputs": [],
   "source": []
  }
 ],
 "metadata": {
  "kernelspec": {
   "display_name": "Python 3 (ipykernel)",
   "language": "python",
   "name": "python3"
  },
  "language_info": {
   "codemirror_mode": {
    "name": "ipython",
    "version": 3
   },
   "file_extension": ".py",
   "mimetype": "text/x-python",
   "name": "python",
   "nbconvert_exporter": "python",
   "pygments_lexer": "ipython3",
   "version": "3.8.11"
  }
 },
 "nbformat": 4,
 "nbformat_minor": 5
}
