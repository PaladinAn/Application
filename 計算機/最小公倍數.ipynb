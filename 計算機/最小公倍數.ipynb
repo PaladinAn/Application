{
 "cells": [
  {
   "cell_type": "code",
   "execution_count": 15,
   "id": "9c058d41-7d9f-4912-8d22-42464b8ee6be",
   "metadata": {},
   "outputs": [
    {
     "name": "stdin",
     "output_type": "stream",
     "text": [
      "數字1: 100\n",
      "數字2: 99\n"
     ]
    },
    {
     "name": "stdout",
     "output_type": "stream",
     "text": [
      "最小工倍數 = 9900\n"
     ]
    }
   ],
   "source": [
    "a = int(input('數字1:'))\n",
    "b = int(input('數字2:'))\n",
    "\n",
    "for i in range(1, (a*b)+1):\n",
    "    if (i % a == 0 and i % b == 0):\n",
    "        break\n",
    "print('最小工倍數 = {}'.format(i))"
   ]
  },
  {
   "cell_type": "code",
   "execution_count": 10,
   "id": "8da06690-4674-44b9-909d-79fe249b7855",
   "metadata": {},
   "outputs": [
    {
     "name": "stdin",
     "output_type": "stream",
     "text": [
      "數字1: 100\n",
      "數字2: 99\n"
     ]
    },
    {
     "name": "stdout",
     "output_type": "stream",
     "text": [
      "最小工倍數 = 9900\n"
     ]
    }
   ],
   "source": [
    "a = int(input('數字1:'))\n",
    "b = int(input('數字2:'))\n",
    "\n",
    "for i in range(1, (a*b)+1):\n",
    "    if (i % a == 0 and i % b == 0):\n",
    "        break\n",
    "print('最小工倍數 = %d' % (i))"
   ]
  },
  {
   "cell_type": "code",
   "execution_count": null,
   "id": "10df90fb-f6c2-4bdb-9b49-f658a0106ccb",
   "metadata": {},
   "outputs": [],
   "source": []
  }
 ],
 "metadata": {
  "kernelspec": {
   "display_name": "Python 3 (ipykernel)",
   "language": "python",
   "name": "python3"
  },
  "language_info": {
   "codemirror_mode": {
    "name": "ipython",
    "version": 3
   },
   "file_extension": ".py",
   "mimetype": "text/x-python",
   "name": "python",
   "nbconvert_exporter": "python",
   "pygments_lexer": "ipython3",
   "version": "3.8.11"
  }
 },
 "nbformat": 4,
 "nbformat_minor": 5
}
