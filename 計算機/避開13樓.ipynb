{
 "cells": [
  {
   "cell_type": "code",
   "execution_count": 3,
   "id": "03a3c08e-9cc7-4d69-86c6-5c97ecb3edb5",
   "metadata": {},
   "outputs": [
    {
     "name": "stdin",
     "output_type": "stream",
     "text": [
      "請輸入大樓層數: 14\n"
     ]
    },
    {
     "name": "stdout",
     "output_type": "stream",
     "text": [
      "本大樓具有的樓層為:\n",
      "1 2 3 4 5 6 7 8 9 10 11 12 14 15 "
     ]
    }
   ],
   "source": [
    "# 等於13必須+1跳過\n",
    "\n",
    "n = int(input('請輸入大樓層數:'))\n",
    "if n > 13:\n",
    "    n += 1\n",
    "print('本大樓具有的樓層為:')\n",
    "\n",
    "for i in range(1, n+1):\n",
    "    if i == 13:\n",
    "        continue\n",
    "    print(i, end=' ')"
   ]
  },
  {
   "cell_type": "code",
   "execution_count": null,
   "id": "9a0655ac-bb6d-45e4-a7c3-c1fe80e1a077",
   "metadata": {},
   "outputs": [],
   "source": []
  }
 ],
 "metadata": {
  "kernelspec": {
   "display_name": "Python 3 (ipykernel)",
   "language": "python",
   "name": "python3"
  },
  "language_info": {
   "codemirror_mode": {
    "name": "ipython",
    "version": 3
   },
   "file_extension": ".py",
   "mimetype": "text/x-python",
   "name": "python",
   "nbconvert_exporter": "python",
   "pygments_lexer": "ipython3",
   "version": "3.8.11"
  }
 },
 "nbformat": 4,
 "nbformat_minor": 5
}
