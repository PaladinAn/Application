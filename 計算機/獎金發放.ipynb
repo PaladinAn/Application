{
 "cells": [
  {
   "cell_type": "code",
   "execution_count": 2,
   "id": "7bde4669-86b0-492d-abb0-6194a0446509",
   "metadata": {},
   "outputs": [
    {
     "name": "stdin",
     "output_type": "stream",
     "text": [
      "員工人數: 10\n",
      "總獎金: 2500\n"
     ]
    },
    {
     "name": "stdout",
     "output_type": "stream",
     "text": [
      "每人可得: 250\n",
      "剩下: 0\n"
     ]
    }
   ],
   "source": [
    "employee = int(input('員工人數:'))\n",
    "bouns = int(input('總獎金:'))\n",
    "\n",
    "# 商數[0]、餘數[1]->divmod(被除數、除數)\n",
    "\n",
    "result = divmod(bouns, employee)\n",
    "print('每人可得:', result[0])\n",
    "print('剩下:', result[1])"
   ]
  },
  {
   "cell_type": "code",
   "execution_count": null,
   "id": "3ae68458-a07b-4d5f-af44-044e5fcd9df4",
   "metadata": {},
   "outputs": [],
   "source": []
  }
 ],
 "metadata": {
  "kernelspec": {
   "display_name": "Python 3 (ipykernel)",
   "language": "python",
   "name": "python3"
  },
  "language_info": {
   "codemirror_mode": {
    "name": "ipython",
    "version": 3
   },
   "file_extension": ".py",
   "mimetype": "text/x-python",
   "name": "python",
   "nbconvert_exporter": "python",
   "pygments_lexer": "ipython3",
   "version": "3.8.11"
  }
 },
 "nbformat": 4,
 "nbformat_minor": 5
}
