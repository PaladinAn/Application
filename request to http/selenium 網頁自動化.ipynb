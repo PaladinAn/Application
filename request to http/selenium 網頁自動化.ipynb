{
 "cells": [
  {
   "cell_type": "markdown",
   "id": "980a5387",
   "metadata": {},
   "source": [
    "pip install selenium"
   ]
  },
  {
   "cell_type": "markdown",
   "id": "be38c491",
   "metadata": {},
   "source": [
    "操控瀏覽器"
   ]
  },
  {
   "cell_type": "code",
   "execution_count": 2,
   "id": "48800380",
   "metadata": {},
   "outputs": [],
   "source": [
    "# chromedriver\n",
    "# https://sites.google.com/a/chromium.org/chromedriver/downloads\n",
    "# 下載與瀏覽器相同的版本"
   ]
  },
  {
   "cell_type": "code",
   "execution_count": 3,
   "id": "60d17ed2",
   "metadata": {},
   "outputs": [],
   "source": [
    "import selenium\n",
    "\n",
    "# webdriver 可對瀏覽器操作\n",
    "from selenium import webdriver\n",
    "\n",
    "# driver位置\n",
    "PATH = 'C:/Users/user/Desktop/chromedriver.exe'\n",
    "\n",
    "# 選擇要用的瀏覽器\n",
    "driver = webdriver.Chrome(PATH)\n",
    "\n",
    "# 前往要去的網址\n",
    "driver.get('https://www.dcard.tw/f')\n",
    "\n",
    "# 取得網頁標題，印出來讓我看看\n",
    "print(driver.title)\n",
    "\n",
    "# 關閉網頁\n",
    "driver.quit()\n",
    "\n"
   ]
  },
  {
   "cell_type": "code",
   "execution_count": 4,
   "id": "ee70ce13",
   "metadata": {},
   "outputs": [],
   "source": [
    "# F12 查看原始碼"
   ]
  },
  {
   "cell_type": "code",
   "execution_count": 17,
   "id": "dc57e3f9",
   "metadata": {},
   "outputs": [],
   "source": [
    "import selenium\n",
    "\n",
    "# webdriver 可對瀏覽器操作\n",
    "from selenium import webdriver\n",
    "# 按鍵盤上的按鍵1\n",
    "from selenium.webdriver.common.key_import_Keys\n",
    "\n",
    "\n",
    "# 時間控制\n",
    "import time\n",
    "\n",
    "# driver位置\n",
    "PATH = 'C:/Users/user/Desktop/chromedriver.exe'\n",
    "\n",
    "# 選擇要用的瀏覽器\n",
    "driver = webdriver.Chrome(PATH)\n",
    "\n",
    "# 前往要去的網址\n",
    "driver.get('https://www.google.com/')\n",
    "\n",
    "# 假設，想操作搜尋欄，先取得搜尋欄的標籤(右鍵，檢查 or F12)\n",
    "# 找標籤(...方法很多\n",
    "# 設定搜尋用的變數\n",
    "search = driver.find_element_by_name('q')\n",
    "\n",
    "# 把搜尋欄位清乾淨\n",
    "search.clear()\n",
    "\n",
    "# 要輸入的文字\n",
    "search.send_keys('你好')\n",
    "\n",
    "# 按鍵盤上的按鍵2(RETURN就是ENTER鍵)\n",
    "search.send_keys(Keys.RETURN)\n",
    "\n",
    "# 卡時間 5秒\n",
    "time.sleep(5)"
   ]
  },
  {
   "cell_type": "code",
   "execution_count": 6,
   "id": "fdec4ffb",
   "metadata": {},
   "outputs": [],
   "source": [
    "# 想搜尋標題，利用右鍵檢查，分析標題的標籤的共同地方，之後可以尋找相同的標籤"
   ]
  },
  {
   "cell_type": "code",
   "execution_count": 8,
   "id": "cb836634",
   "metadata": {},
   "outputs": [],
   "source": [
    "import selenium\n",
    "\n",
    "# webdriver 可對瀏覽器操作\n",
    "from selenium import webdriver\n",
    "# 按鍵盤上的按鍵1\n",
    "from selenium.webdriver.common.key_import_Keys\n",
    "# Explicit Waits方法(取代sleep方法)\n",
    "# 網頁出現某的東西才去跑流程\n",
    "# form: https://selenium-python.readthedocs.io/waits.html\n",
    "from selenium.webdriver.common.by import By\n",
    "from selenium.webdriver.support.ui import WebDriverWait\n",
    "from selenium.webdriver.support import expected_conditions as EC\n",
    "\n",
    "\n",
    "PATH = 'C:/Users/user/Desktop/chromedriver.exe'\n",
    "driver = webdriver.Chrome(PATH)\n",
    "driver.get('https://www.dcard.tw/f')\n",
    "\n",
    "# 等待之後執行(等瀏覽器10秒，直到某個ID\" \"(BY.東西)出現為止，後面代碼也用檢查去取得)\n",
    "WebDriverWait(driver, 10).until(\n",
    "        EC.presence_of_element_located((By.CLASS_NAME, 'sc-3yr054-1'))\n",
    "    )\n",
    "\n",
    "# 分析後，設定搜尋標題的方法\n",
    "titles = driver.find_elements_by_class_name('tgn9uw-3')\n",
    "# 因為有很多標題是一個列表，所以可以用迴圈去跑他\n",
    "for_title in titles:\n",
    "    # text取得標籤文字，印出來\n",
    "    print(title.text)"
   ]
  },
  {
   "cell_type": "markdown",
   "id": "4828a8e8",
   "metadata": {},
   "source": [
    "網頁點擊動作"
   ]
  },
  {
   "cell_type": "code",
   "execution_count": null,
   "id": "b2450a4b",
   "metadata": {},
   "outputs": [],
   "source": [
    "# 根據標籤的文字\n",
    "link = driver.find_elements_by_link_text('XXXXXXXXXX')\n",
    "# 點擊\n",
    "link.click()"
   ]
  },
  {
   "cell_type": "code",
   "execution_count": null,
   "id": "56a3ec5e",
   "metadata": {},
   "outputs": [],
   "source": [
    "# 回到上一頁\n",
    "driver.back()\n",
    "# 下一頁\n",
    "driver.forward()"
   ]
  },
  {
   "cell_type": "markdown",
   "id": "e1095b18",
   "metadata": {},
   "source": [
    "Action Chains 模擬，滑鼠、鍵盤的所有行為"
   ]
  },
  {
   "cell_type": "markdown",
   "id": "660f1f1a",
   "metadata": {},
   "source": [
    "https://selenium-python.readthedocs.io/api.html#module-selenium.webdriver.common.action_chains"
   ]
  },
  {
   "cell_type": "markdown",
   "id": "a4bd3690",
   "metadata": {},
   "source": [
    "輸入帳號密碼"
   ]
  },
  {
   "cell_type": "code",
   "execution_count": null,
   "id": "d6bf2f1a",
   "metadata": {},
   "outputs": [],
   "source": [
    "# 等待之後執行(等瀏覽器10秒，直到某個ID\" \"(BY.東西)出現為止，後面代碼也用檢查去取得)\n",
    "username = WebDriverWait(driver, 10).until(\n",
    "        EC.presence_of_element_located((By.NAME, 'username'))\n",
    "    )\n",
    "\n",
    "# 等待之後執行(等瀏覽器10秒，直到某個ID\" \"(BY.東西)出現為止，後面代碼也用檢查去取得)\n",
    "password = WebDriverWait(driver, 10).until(\n",
    "        EC.presence_of_element_located((By.NAME, 'password'))\n",
    "    )\n",
    "# 搜尋登入按鈕的標籤，找他的XPATH\n",
    "login = driver.find_element_by_xpath('..............')\n",
    "\n",
    "# 清空欄位\n",
    "username.clear()\n",
    "password.clear()\n",
    "\n",
    "# 輸入\n",
    "username.send_keys('你好')\n",
    "password.send_keys('你好')\n",
    "\n",
    "# 按登入按鈕\n",
    "login.click()"
   ]
  },
  {
   "cell_type": "markdown",
   "id": "e3051b6f",
   "metadata": {},
   "source": [
    "抓圖片"
   ]
  },
  {
   "cell_type": "code",
   "execution_count": null,
   "id": "35d66d81",
   "metadata": {},
   "outputs": [],
   "source": [
    "# 找圖片的標籤(關鍵字)\n",
    "imgs = driver.find_element_by_class_name('..............')\n",
    "# 用for跑每張圖片\n",
    "for img in imgs:\n",
    "    # src 圖片位置\n",
    "    print(img.get_attribute('src'))"
   ]
  },
  {
   "cell_type": "code",
   "execution_count": null,
   "id": "e5589dc2",
   "metadata": {},
   "outputs": [],
   "source": [
    "# 下載圖片需要的模組\n",
    "import os\n",
    "# wget網路下載東西 pip install wget\n",
    "import wget\n",
    "\n",
    "# 創建，資料夾存放下載的東西，根據關鍵字來命名資料夾\n",
    "path = os.path.join(keywords)\n",
    "os.mkdir(path)"
   ]
  },
  {
   "cell_type": "markdown",
   "id": "95953d1a",
   "metadata": {},
   "source": [
    "組合起來"
   ]
  },
  {
   "cell_type": "code",
   "execution_count": null,
   "id": "86b62cbe",
   "metadata": {},
   "outputs": [],
   "source": [
    "import os\n",
    "import wget\n",
    "\n",
    "path = os.path.join(keywords)\n",
    "os.mkdir(path)\n",
    "imgs = driver.find_element_by_class_name('..............')\n",
    "\n",
    "count = 0        # 設定編號\n",
    "for img in imgs:\n",
    "    # src 圖片位置\n",
    "    print(img.get_attribute('src'))\n",
    "    \n",
    "    # 存圖片路徑，path資料夾，檔案名稱(假設依據keyword命名)，副檔名\n",
    "    save_as = os.path.join(path, keyword + str(count) + '.jpg')\n",
    "    # 下載動作:下載的位置，存到哪個地方\n",
    "    wget.download(('src'), save_as)\n",
    "    count += 1"
   ]
  },
  {
   "cell_type": "markdown",
   "id": "01206595",
   "metadata": {},
   "source": [
    "滑滾輪的動作"
   ]
  },
  {
   "cell_type": "code",
   "execution_count": null,
   "id": "9129f680",
   "metadata": {},
   "outputs": [],
   "source": [
    "# 輸入XY座標\n",
    "driver.execute_script(\"window.scrollTo(0, document.body.scrollHelight);\")"
   ]
  },
  {
   "cell_type": "code",
   "execution_count": null,
   "id": "bfa15e22",
   "metadata": {},
   "outputs": [],
   "source": [
    "# 多滑幾次(5 times)\n",
    "for i in range(5):\n",
    "    driver.execute_script(\"window.scrollTo(0, document.body.scrollHelight);\")\n",
    "    time.sleep(3)"
   ]
  }
 ],
 "metadata": {
  "kernelspec": {
   "display_name": "Python 3 (ipykernel)",
   "language": "python",
   "name": "python3"
  },
  "language_info": {
   "codemirror_mode": {
    "name": "ipython",
    "version": 3
   },
   "file_extension": ".py",
   "mimetype": "text/x-python",
   "name": "python",
   "nbconvert_exporter": "python",
   "pygments_lexer": "ipython3",
   "version": "3.8.11"
  }
 },
 "nbformat": 4,
 "nbformat_minor": 5
}
